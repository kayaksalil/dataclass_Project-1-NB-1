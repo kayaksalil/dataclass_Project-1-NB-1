{
 "cells": [
  {
   "cell_type": "markdown",
   "metadata": {},
   "source": [
    "# Module 1 - Basic Python"
   ]
  },
  {
   "cell_type": "markdown",
   "metadata": {},
   "source": [
    "## Setting values to variables"
   ]
  },
  {
   "cell_type": "markdown",
   "metadata": {},
   "source": [
    "The value types that we will be using in this course are mainly int, float, and string values.\n",
    "\n",
    "- An int value is an integer (whole numbers)\n",
    "- A float value is a decimal number\n",
    "- A string value is alpha-numeric characters that cannot be mathematically computed; can use single or double quotes\n",
    "- The pound/hashtag (#) sign denotes comments, which is not read by python as code"
   ]
  },
  {
   "cell_type": "code",
   "execution_count": 2,
   "metadata": {},
   "outputs": [
    {
     "name": "stdout",
     "output_type": "stream",
     "text": [
      "5\n",
      "7.23\n",
      "hello world\n"
     ]
    },
    {
     "data": {
      "text/plain": [
       "str"
      ]
     },
     "execution_count": 2,
     "metadata": {},
     "output_type": "execute_result"
    }
   ],
   "source": [
    "x = 5 #int\n",
    "print(x)\n",
    "y = 7.23 #float\n",
    "print(y)\n",
    "z = 'hello world' #stringprint\n",
    "print(z)\n",
    "type(z)"
   ]
  },
  {
   "cell_type": "code",
   "execution_count": 3,
   "metadata": {},
   "outputs": [
    {
     "name": "stdout",
     "output_type": "stream",
     "text": [
      "5\n",
      "7.23\n",
      "hello world\n"
     ]
    }
   ],
   "source": [
    "#use the \"print\" function to see the output of the values stored in the variables\n",
    "print(x)\n",
    "print(y)\n",
    "print(z)"
   ]
  },
  {
   "cell_type": "code",
   "execution_count": null,
   "metadata": {
    "scrolled": true
   },
   "outputs": [],
   "source": [
    "#Jupyter notebooks can display the output of a variable's value by typing the variable name but only will output the last \"called on\" variable\n",
    "\n",
    "y #this will not display\n",
    "z #this will display b/c it's the last"
   ]
  },
  {
   "cell_type": "code",
   "execution_count": 4,
   "metadata": {},
   "outputs": [
    {
     "data": {
      "text/plain": [
       "str"
      ]
     },
     "execution_count": 4,
     "metadata": {},
     "output_type": "execute_result"
    }
   ],
   "source": [
    "#the \"type\" function will tell you what data type a variable is\n",
    "type(z)"
   ]
  },
  {
   "cell_type": "code",
   "execution_count": 5,
   "metadata": {
    "scrolled": false
   },
   "outputs": [
    {
     "name": "stdout",
     "output_type": "stream",
     "text": [
      "12.23\n"
     ]
    }
   ],
   "source": [
    "#variables can be added together\n",
    "a = x + y\n",
    "print(a)\n",
    "\n",
    "#also works for strings\n",
    "#r = \"hello\"\n",
    "#s = \"world\"\n",
    "#print(r + s)"
   ]
  },
  {
   "cell_type": "markdown",
   "metadata": {},
   "source": [
    "## If Statement\n",
    "\n",
    "- Checks if a condition is true\n",
    "- Python will auto-indent starting from the first line after the colon within the If statement\n",
    "- Indentation signifies the code that belongs to the If statement\n",
    "\n",
    "* Note: != is \"not equal to\""
   ]
  },
  {
   "cell_type": "code",
   "execution_count": 6,
   "metadata": {
    "scrolled": true
   },
   "outputs": [
    {
     "name": "stdout",
     "output_type": "stream",
     "text": [
      "It is five.\n"
     ]
    }
   ],
   "source": [
    "#check to see if something is true\n",
    "#can also use other tests of equality >, <, !=\n",
    "if x == 5: \n",
    "    print(\"It is five.\")\n",
    "else:\n",
    "    print(\"It is not five.\")"
   ]
  },
  {
   "cell_type": "markdown",
   "metadata": {},
   "source": [
    "## Lists and For loops\n",
    "\n",
    "- A list is a container for multiple values\n",
    "- A For loop goes through each item within a list and executes the code that should be done for each item\n",
    "- Python will auto-indent starting from the first line after the colon within the loop"
   ]
  },
  {
   "cell_type": "code",
   "execution_count": 8,
   "metadata": {},
   "outputs": [],
   "source": [
    "#this is a list with 3 items\n",
    "colors = ['red', 'yellow', 'blue']"
   ]
  },
  {
   "cell_type": "code",
   "execution_count": 9,
   "metadata": {
    "scrolled": false
   },
   "outputs": [
    {
     "name": "stdout",
     "output_type": "stream",
     "text": [
      "red\n",
      "yellow\n",
      "blue\n"
     ]
    }
   ],
   "source": [
    "#iterating through a list\n",
    "for color in colors:\n",
    "    print(color)"
   ]
  },
  {
   "cell_type": "markdown",
   "metadata": {},
   "source": [
    "- The len function returns the length (number of) items"
   ]
  },
  {
   "cell_type": "code",
   "execution_count": null,
   "metadata": {},
   "outputs": [],
   "source": [
    "print(len(colors))\n",
    "print(len(z)) #also works on counting characters (including spaces and punctuation) in a string"
   ]
  },
  {
   "cell_type": "markdown",
   "metadata": {},
   "source": [
    "- Python position counting (called \"index\") starts from 0\n",
    "- To \"slice\" a list is to look at particular specified values\n",
    "- The first number is the starting index of the value to get and the 2nd number after the colon is the index to stop at (not inclusive)"
   ]
  },
  {
   "cell_type": "code",
   "execution_count": 10,
   "metadata": {
    "scrolled": true
   },
   "outputs": [
    {
     "data": {
      "text/plain": [
       "['Tuesday', 'Wednesday', 'Thursday', 'Friday']"
      ]
     },
     "execution_count": 10,
     "metadata": {},
     "output_type": "execute_result"
    }
   ],
   "source": [
    "#this list has 7 items\n",
    "#position index starts at 0 and ends at 6\n",
    "days = ['Sunday', 'Monday', 'Tuesday', 'Wednesday', 'Thursday', 'Friday', 'Saturday']\n",
    "days[2:6] #2nd number is up to but not including that index number"
   ]
  },
  {
   "cell_type": "markdown",
   "metadata": {},
   "source": [
    "## Def function\n",
    "\n",
    "- Used to write code to create your own function\n",
    "- Python will auto-indent starting from the first line after the colon within the \"def\" function\n",
    "- The blue letters are the name of your function (no spaces)\n",
    "- Inside the parentheses are the placeholder variables for the arguments (what will be passed into the function to compute on)\n",
    "- The return function sends back the value after the function is finished\n",
    "- The def function does not produce output, but stores the function in-memory; the function must be called"
   ]
  },
  {
   "cell_type": "code",
   "execution_count": 11,
   "metadata": {},
   "outputs": [],
   "source": [
    "#make a function\n",
    "def addNum(num1, num2):\n",
    "    return num1 + num2"
   ]
  },
  {
   "cell_type": "code",
   "execution_count": 12,
   "metadata": {},
   "outputs": [
    {
     "data": {
      "text/plain": [
       "12.23"
      ]
     },
     "execution_count": 12,
     "metadata": {},
     "output_type": "execute_result"
    }
   ],
   "source": [
    "#using the function\n",
    "addNum(x, y)"
   ]
  },
  {
   "cell_type": "markdown",
   "metadata": {},
   "source": [
    "# Exercise 1\n",
    "- Create an application that has a list of five people's names\n",
    "- Loop through the list printing each person's name, next to the number of characters in the name"
   ]
  },
  {
   "cell_type": "code",
   "execution_count": 14,
   "metadata": {},
   "outputs": [
    {
     "name": "stdout",
     "output_type": "stream",
     "text": [
      "Joe\n",
      "Jill\n",
      "Jane\n",
      "Bill\n",
      "Harvey\n"
     ]
    }
   ],
   "source": [
    "Team = ['Joe', 'Jill', 'Jane', 'Bill','Harvey']\n",
    "for name in Team:\n",
    "    print (name)\n"
   ]
  },
  {
   "cell_type": "markdown",
   "metadata": {},
   "source": [
    "------------------\n",
    "# Appendix A\n",
    "## Jupyter Features"
   ]
  },
  {
   "cell_type": "markdown",
   "metadata": {},
   "source": [
    "#### Basic Keyboard Shortcuts\n",
    "- `Shift + Enter` to run cell\n",
    "- `Escape` to leave cell\n",
    "- `m` to change cell to Markdown (after pressing escape)\n",
    "- `y` to change cell to Code (after pressing escape)\n",
    "- `Enter` to enter cell"
   ]
  },
  {
   "cell_type": "markdown",
   "metadata": {},
   "source": [
    "#### Getting Help\n",
    "- add question mark to end of object"
   ]
  },
  {
   "cell_type": "code",
   "execution_count": 15,
   "metadata": {},
   "outputs": [],
   "source": [
    "# Get the numpy arange docstring\n",
    "import numpy as np\n",
    "np.arange?"
   ]
  },
  {
   "cell_type": "code",
   "execution_count": 16,
   "metadata": {},
   "outputs": [],
   "source": [
    "# Get the python sorted function docstring\n",
    "sorted?"
   ]
  },
  {
   "cell_type": "markdown",
   "metadata": {},
   "source": [
    "---\n",
    "#### Tab Completion\n",
    "\n",
    "Example of Jupyter tab completion include:\n",
    "- listing available modules on import   \n",
    "`import <tab>`   \n",
    "`from numpy import <tab>`\n",
    "- listing available modules after import         \n",
    "`import numpy as np`  \n",
    "`np.<tab>`   \n",
    "- function completion    \n",
    "`np.ar<tab>`   \n",
    "`sor<tab>([2, 3, 1])`   \n",
    "- variable completion    \n",
    "`myvar_1 = 5`   \n",
    "`myvar_2 = 6`   \n",
    "`my<tab>`   "
   ]
  },
  {
   "cell_type": "code",
   "execution_count": 7,
   "metadata": {},
   "outputs": [
    {
     "data": {
      "text/plain": [
       "[1, 2, 3]"
      ]
     },
     "execution_count": 7,
     "metadata": {},
     "output_type": "execute_result"
    }
   ],
   "source": [
    "myvar_1 = 5\n",
    "myvar_2 = 6\n",
    "myvar_1"
   ]
  },
  {
   "cell_type": "markdown",
   "metadata": {},
   "source": [
    "---\n",
    "#### Jupyter Magic Functions\n",
    "List of the available magic commands:"
   ]
  },
  {
   "cell_type": "code",
   "execution_count": 17,
   "metadata": {},
   "outputs": [
    {
     "data": {
      "application/json": {
       "cell": {
        "!": "OSMagics",
        "HTML": "Other",
        "SVG": "Other",
        "bash": "Other",
        "capture": "ExecutionMagics",
        "cmd": "Other",
        "debug": "ExecutionMagics",
        "file": "Other",
        "html": "DisplayMagics",
        "javascript": "DisplayMagics",
        "js": "DisplayMagics",
        "latex": "DisplayMagics",
        "markdown": "DisplayMagics",
        "perl": "Other",
        "prun": "ExecutionMagics",
        "pypy": "Other",
        "python": "Other",
        "python2": "Other",
        "python3": "Other",
        "ruby": "Other",
        "script": "ScriptMagics",
        "sh": "Other",
        "svg": "DisplayMagics",
        "sx": "OSMagics",
        "system": "OSMagics",
        "time": "ExecutionMagics",
        "timeit": "ExecutionMagics",
        "writefile": "OSMagics"
       },
       "line": {
        "alias": "OSMagics",
        "alias_magic": "BasicMagics",
        "autoawait": "AsyncMagics",
        "autocall": "AutoMagics",
        "automagic": "AutoMagics",
        "autosave": "KernelMagics",
        "bookmark": "OSMagics",
        "cd": "OSMagics",
        "clear": "KernelMagics",
        "cls": "KernelMagics",
        "colors": "BasicMagics",
        "config": "ConfigMagics",
        "connect_info": "KernelMagics",
        "copy": "Other",
        "ddir": "Other",
        "debug": "ExecutionMagics",
        "dhist": "OSMagics",
        "dirs": "OSMagics",
        "doctest_mode": "BasicMagics",
        "echo": "Other",
        "ed": "Other",
        "edit": "KernelMagics",
        "env": "OSMagics",
        "gui": "BasicMagics",
        "hist": "Other",
        "history": "HistoryMagics",
        "killbgscripts": "ScriptMagics",
        "ldir": "Other",
        "less": "KernelMagics",
        "load": "CodeMagics",
        "load_ext": "ExtensionMagics",
        "loadpy": "CodeMagics",
        "logoff": "LoggingMagics",
        "logon": "LoggingMagics",
        "logstart": "LoggingMagics",
        "logstate": "LoggingMagics",
        "logstop": "LoggingMagics",
        "ls": "Other",
        "lsmagic": "BasicMagics",
        "macro": "ExecutionMagics",
        "magic": "BasicMagics",
        "matplotlib": "PylabMagics",
        "mkdir": "Other",
        "more": "KernelMagics",
        "notebook": "BasicMagics",
        "page": "BasicMagics",
        "pastebin": "CodeMagics",
        "pdb": "ExecutionMagics",
        "pdef": "NamespaceMagics",
        "pdoc": "NamespaceMagics",
        "pfile": "NamespaceMagics",
        "pinfo": "NamespaceMagics",
        "pinfo2": "NamespaceMagics",
        "pip": "BasicMagics",
        "popd": "OSMagics",
        "pprint": "BasicMagics",
        "precision": "BasicMagics",
        "prun": "ExecutionMagics",
        "psearch": "NamespaceMagics",
        "psource": "NamespaceMagics",
        "pushd": "OSMagics",
        "pwd": "OSMagics",
        "pycat": "OSMagics",
        "pylab": "PylabMagics",
        "qtconsole": "KernelMagics",
        "quickref": "BasicMagics",
        "recall": "HistoryMagics",
        "rehashx": "OSMagics",
        "reload_ext": "ExtensionMagics",
        "ren": "Other",
        "rep": "Other",
        "rerun": "HistoryMagics",
        "reset": "NamespaceMagics",
        "reset_selective": "NamespaceMagics",
        "rmdir": "Other",
        "run": "ExecutionMagics",
        "save": "CodeMagics",
        "sc": "OSMagics",
        "set_env": "OSMagics",
        "store": "StoreMagics",
        "sx": "OSMagics",
        "system": "OSMagics",
        "tb": "ExecutionMagics",
        "time": "ExecutionMagics",
        "timeit": "ExecutionMagics",
        "unalias": "OSMagics",
        "unload_ext": "ExtensionMagics",
        "who": "NamespaceMagics",
        "who_ls": "NamespaceMagics",
        "whos": "NamespaceMagics",
        "xdel": "NamespaceMagics",
        "xmode": "BasicMagics"
       }
      },
      "text/plain": [
       "Available line magics:\n",
       "%alias  %alias_magic  %autoawait  %autocall  %automagic  %autosave  %bookmark  %cd  %clear  %cls  %colors  %config  %connect_info  %copy  %ddir  %debug  %dhist  %dirs  %doctest_mode  %echo  %ed  %edit  %env  %gui  %hist  %history  %killbgscripts  %ldir  %less  %load  %load_ext  %loadpy  %logoff  %logon  %logstart  %logstate  %logstop  %ls  %lsmagic  %macro  %magic  %matplotlib  %mkdir  %more  %notebook  %page  %pastebin  %pdb  %pdef  %pdoc  %pfile  %pinfo  %pinfo2  %popd  %pprint  %precision  %prun  %psearch  %psource  %pushd  %pwd  %pycat  %pylab  %qtconsole  %quickref  %recall  %rehashx  %reload_ext  %ren  %rep  %rerun  %reset  %reset_selective  %rmdir  %run  %save  %sc  %set_env  %store  %sx  %system  %tb  %time  %timeit  %unalias  %unload_ext  %who  %who_ls  %whos  %xdel  %xmode\n",
       "\n",
       "Available cell magics:\n",
       "%%!  %%HTML  %%SVG  %%bash  %%capture  %%cmd  %%debug  %%file  %%html  %%javascript  %%js  %%latex  %%markdown  %%perl  %%prun  %%pypy  %%python  %%python2  %%python3  %%ruby  %%script  %%sh  %%svg  %%sx  %%system  %%time  %%timeit  %%writefile\n",
       "\n",
       "Automagic is ON, % prefix IS NOT needed for line magics."
      ]
     },
     "execution_count": 17,
     "metadata": {},
     "output_type": "execute_result"
    }
   ],
   "source": [
    "%lsmagic"
   ]
  },
  {
   "cell_type": "code",
   "execution_count": null,
   "metadata": {},
   "outputs": [],
   "source": [
    "# Execute linux commands in your code\n",
    "%%bash"
   ]
  },
  {
   "cell_type": "code",
   "execution_count": 8,
   "metadata": {},
   "outputs": [
    {
     "name": "stderr",
     "output_type": "stream",
     "text": [
      "UsageError: Cell magic `%%cmd` not found.\n"
     ]
    }
   ],
   "source": [
    "# Execute MS-DOS commands in your code\n",
    "%%cmd"
   ]
  },
  {
   "cell_type": "markdown",
   "metadata": {},
   "source": [
    "---\n",
    "## Document versions for reproducability and datestamp the notebook"
   ]
  },
  {
   "cell_type": "code",
   "execution_count": 9,
   "metadata": {},
   "outputs": [
    {
     "data": {
      "application/json": {
       "Software versions": [
        {
         "module": "Python",
         "version": "3.6.8 64bit [GCC 7.3.0]"
        },
        {
         "module": "IPython",
         "version": "6.2.1"
        },
        {
         "module": "OS",
         "version": "Linux 4.15.0 1032 aws x86_64 with debian buster sid"
        },
        {
         "module": "requests",
         "version": "2.18.4"
        },
        {
         "module": "numpy",
         "version": "1.15.4"
        },
        {
         "module": "pandas",
         "version": "0.24.0"
        },
        {
         "module": "matplotlib",
         "version": "3.0.2"
        },
        {
         "module": "seaborn",
         "version": "0.9.0"
        },
        {
         "module": "sklearn",
         "version": "0.20.2"
        }
       ]
      },
      "text/html": [
       "<table><tr><th>Software</th><th>Version</th></tr><tr><td>Python</td><td>3.6.8 64bit [GCC 7.3.0]</td></tr><tr><td>IPython</td><td>6.2.1</td></tr><tr><td>OS</td><td>Linux 4.15.0 1032 aws x86_64 with debian buster sid</td></tr><tr><td>requests</td><td>2.18.4</td></tr><tr><td>numpy</td><td>1.15.4</td></tr><tr><td>pandas</td><td>0.24.0</td></tr><tr><td>matplotlib</td><td>3.0.2</td></tr><tr><td>seaborn</td><td>0.9.0</td></tr><tr><td>sklearn</td><td>0.20.2</td></tr><tr><td colspan='2'>Sat Feb 16 01:06:43 2019 UTC</td></tr></table>"
      ],
      "text/latex": [
       "\\begin{tabular}{|l|l|}\\hline\n",
       "{\\bf Software} & {\\bf Version} \\\\ \\hline\\hline\n",
       "Python & 3.6.8 64bit [GCC 7.3.0] \\\\ \\hline\n",
       "IPython & 6.2.1 \\\\ \\hline\n",
       "OS & Linux 4.15.0 1032 aws x86\\_64 with debian buster sid \\\\ \\hline\n",
       "requests & 2.18.4 \\\\ \\hline\n",
       "numpy & 1.15.4 \\\\ \\hline\n",
       "pandas & 0.24.0 \\\\ \\hline\n",
       "matplotlib & 3.0.2 \\\\ \\hline\n",
       "seaborn & 0.9.0 \\\\ \\hline\n",
       "sklearn & 0.20.2 \\\\ \\hline\n",
       "\\hline \\multicolumn{2}{|l|}{Sat Feb 16 01:06:43 2019 UTC} \\\\ \\hline\n",
       "\\end{tabular}\n"
      ],
      "text/plain": [
       "Software versions\n",
       "Python 3.6.8 64bit [GCC 7.3.0]\n",
       "IPython 6.2.1\n",
       "OS Linux 4.15.0 1032 aws x86_64 with debian buster sid\n",
       "requests 2.18.4\n",
       "numpy 1.15.4\n",
       "pandas 0.24.0\n",
       "matplotlib 3.0.2\n",
       "seaborn 0.9.0\n",
       "sklearn 0.20.2\n",
       "Sat Feb 16 01:06:43 2019 UTC"
      ]
     },
     "execution_count": 9,
     "metadata": {},
     "output_type": "execute_result"
    }
   ],
   "source": [
    "# pip install version_information\n",
    "# https://github.com/jrjohansson/version_information\n",
    "#\n",
    "# alternate option: https://github.com/rasbt/watermark\n",
    "#\n",
    "# Anaconda Install\n",
    "# conda install -c conda-forge version_information\n",
    "\n",
    "%load_ext version_information\n",
    "%version_information requests, numpy, pandas, matplotlib, seaborn, sklearn"
   ]
  },
  {
   "cell_type": "markdown",
   "metadata": {},
   "source": [
    "---\n",
    "# More Basic Python\n",
    "## Dictionaries"
   ]
  },
  {
   "cell_type": "markdown",
   "metadata": {},
   "source": [
    "Similar to lists, dictionaries are a container type to store values. Instead of referencing values by their positions, values are called by their key name. "
   ]
  },
  {
   "cell_type": "code",
   "execution_count": 10,
   "metadata": {},
   "outputs": [],
   "source": [
    "listofpets = ['Goku', \"Mika\", 'Fluffy']"
   ]
  },
  {
   "cell_type": "code",
   "execution_count": 11,
   "metadata": {},
   "outputs": [
    {
     "data": {
      "text/plain": [
       "['Goku', 'Mika', 'Fluffy']"
      ]
     },
     "execution_count": 11,
     "metadata": {},
     "output_type": "execute_result"
    }
   ],
   "source": [
    "listofpets"
   ]
  },
  {
   "cell_type": "code",
   "execution_count": 12,
   "metadata": {},
   "outputs": [
    {
     "name": "stdout",
     "output_type": "stream",
     "text": [
      "{'Goku': 'dog', 'Mika': 'dog', 'Brunson': 'cat', 'Lucas': 'cat', 'Genki': 'fish'}\n"
     ]
    }
   ],
   "source": [
    "# dictionaries use curly brackets\n",
    "pets = {'Goku': 'dog',\n",
    "        'Mika': 'dog',\n",
    "        'Brunson': 'cat',\n",
    "        'Lucas': 'cat',\n",
    "        'Genki': 'fish'}\n",
    "\n",
    "print(pets)"
   ]
  },
  {
   "cell_type": "code",
   "execution_count": 13,
   "metadata": {},
   "outputs": [
    {
     "name": "stdout",
     "output_type": "stream",
     "text": [
      "{'Goku': 'dog', 'Mika': 'dog', 'Brunson': 'cat', 'Lucas': 'cat', 'Genki': 'fish', 'Tiny': 'dog'}\n"
     ]
    }
   ],
   "source": [
    "#add new values to a dictionary\n",
    "\n",
    "pets['Tiny'] = 'dog'\n",
    "print(pets)"
   ]
  },
  {
   "cell_type": "code",
   "execution_count": 14,
   "metadata": {},
   "outputs": [
    {
     "name": "stdout",
     "output_type": "stream",
     "text": [
      "Goku\n",
      "Mika\n",
      "Fluffy\n"
     ]
    }
   ],
   "source": [
    "for pet in listofpets:\n",
    "    print(pet)"
   ]
  },
  {
   "cell_type": "code",
   "execution_count": 15,
   "metadata": {},
   "outputs": [
    {
     "name": "stdout",
     "output_type": "stream",
     "text": [
      "Goku is a dog\n",
      "Mika is a dog\n",
      "Brunson is a cat\n",
      "Lucas is a cat\n",
      "Genki is a fish\n",
      "Tiny is a dog\n"
     ]
    }
   ],
   "source": [
    "# iterating over a dictionary\n",
    "for name, type in pets.items(): #items functions gets key,value pair in dictionary\n",
    "    print(name + \" is a \" + type)"
   ]
  },
  {
   "cell_type": "code",
   "execution_count": null,
   "metadata": {},
   "outputs": [],
   "source": [
    "#list of keys\n",
    "pets.keys()"
   ]
  },
  {
   "cell_type": "code",
   "execution_count": 16,
   "metadata": {},
   "outputs": [
    {
     "data": {
      "text/plain": [
       "dict_values(['dog', 'dog', 'cat', 'cat', 'fish', 'dog'])"
      ]
     },
     "execution_count": 16,
     "metadata": {},
     "output_type": "execute_result"
    }
   ],
   "source": [
    "#list of values\n",
    "pets.values()"
   ]
  },
  {
   "cell_type": "code",
   "execution_count": 17,
   "metadata": {},
   "outputs": [
    {
     "name": "stdout",
     "output_type": "stream",
     "text": [
      "{'Goku': 'dog', 'Mika': 'dog', 'Brunson': 'cat', 'Genki': 'fish', 'Tiny': 'dog'}\n"
     ]
    }
   ],
   "source": [
    "#delete an item from the dictionary\n",
    "del pets['Lucas']\n",
    "\n",
    "print(pets)"
   ]
  },
  {
   "cell_type": "markdown",
   "metadata": {},
   "source": [
    "# Exercise 2\n",
    "- create a dictionary of your favorite things: musical artist, movie, book, tv show, and dessert\n",
    "- iterate through the dictionary and print sentences that look like: my favorite [thing] is [name of thing]"
   ]
  },
  {
   "cell_type": "code",
   "execution_count": 20,
   "metadata": {},
   "outputs": [],
   "source": [
    "HW = {'Musical Artist': 'CCR',\n",
    "        'Movie': 'Wally',\n",
    "        'Book': 'Guide to the Galaxy',\n",
    "        'TV Show': 'Last Man Standing',\n",
    "        'Dessert': 'Tiramisu'}"
   ]
  },
  {
   "cell_type": "code",
   "execution_count": 22,
   "metadata": {},
   "outputs": [
    {
     "name": "stdout",
     "output_type": "stream",
     "text": [
      "My favorite Musical Artist is CCR\n",
      "My favorite Movie is Wally\n",
      "My favorite Book is Guide to the Galaxy\n",
      "My favorite TV Show is Last Man Standing\n",
      "My favorite Dessert is Tiramisu\n"
     ]
    }
   ],
   "source": [
    "for favorites, type in HW.items(): #items functions gets key,value pair in dictionary\n",
    "    print(\"My favorite \" + favorites + \" is \" + type)"
   ]
  },
  {
   "cell_type": "markdown",
   "metadata": {},
   "source": [
    "---\n",
    "### String Manipulation"
   ]
  },
  {
   "cell_type": "code",
   "execution_count": 18,
   "metadata": {},
   "outputs": [
    {
     "name": "stdout",
     "output_type": "stream",
     "text": [
      "my name is aj\n",
      "MY NAME IS AJ\n"
     ]
    }
   ],
   "source": [
    "#change the case of the letters\n",
    "intro= \"My name is AJ\"\n",
    "\n",
    "print(intro.lower()) #lowercase\n",
    "print(intro.upper()) #uppercase"
   ]
  },
  {
   "cell_type": "code",
   "execution_count": 19,
   "metadata": {},
   "outputs": [
    {
     "data": {
      "text/plain": [
       "False"
      ]
     },
     "execution_count": 19,
     "metadata": {},
     "output_type": "execute_result"
    }
   ],
   "source": [
    "#check if string has all alphabetical characters\n",
    "#this returns false because it has a space (not a letter)\n",
    "intro.isalpha()"
   ]
  },
  {
   "cell_type": "code",
   "execution_count": 20,
   "metadata": {},
   "outputs": [
    {
     "data": {
      "text/plain": [
       "3"
      ]
     },
     "execution_count": 20,
     "metadata": {},
     "output_type": "execute_result"
    }
   ],
   "source": [
    "#can search for a string within a string\n",
    "#returns starting index position of string\n",
    "#returns -1 if string not found\n",
    "intro.find(\"name\")"
   ]
  },
  {
   "cell_type": "code",
   "execution_count": 21,
   "metadata": {},
   "outputs": [
    {
     "data": {
      "text/plain": [
       "False"
      ]
     },
     "execution_count": 21,
     "metadata": {},
     "output_type": "execute_result"
    }
   ],
   "source": [
    "#find if a string starts with another string\n",
    "#returns True or False\n",
    "intro.startswith(\"my\")"
   ]
  },
  {
   "cell_type": "code",
   "execution_count": 22,
   "metadata": {},
   "outputs": [
    {
     "data": {
      "text/plain": [
       "'My name is Bob'"
      ]
     },
     "execution_count": 22,
     "metadata": {},
     "output_type": "execute_result"
    }
   ],
   "source": [
    "#replace one string with another\n",
    "intro.replace(\"AJ\", \"Bob\")"
   ]
  },
  {
   "cell_type": "code",
   "execution_count": 23,
   "metadata": {},
   "outputs": [
    {
     "data": {
      "text/plain": [
       "'My name is AJ'"
      ]
     },
     "execution_count": 23,
     "metadata": {},
     "output_type": "execute_result"
    }
   ],
   "source": [
    "intro"
   ]
  },
  {
   "cell_type": "code",
   "execution_count": 24,
   "metadata": {},
   "outputs": [
    {
     "data": {
      "text/plain": [
       "['My', 'name', 'is', 'AJ']"
      ]
     },
     "execution_count": 24,
     "metadata": {},
     "output_type": "execute_result"
    }
   ],
   "source": [
    "#split a string into smaller strings by a given character\n",
    "#example splits string by space\n",
    "intro.split(\" \")"
   ]
  },
  {
   "cell_type": "code",
   "execution_count": 26,
   "metadata": {},
   "outputs": [
    {
     "name": "stdout",
     "output_type": "stream",
     "text": [
      ".    hello world     .\n",
      ".    hello world .\n",
      ". hello world     .\n",
      ". hello world .\n"
     ]
    }
   ],
   "source": [
    "extra = \"   hello world    \"\n",
    "\n",
    "print(\".\",extra,'.')\n",
    "print(\".\",extra.rstrip(),'.') #remove whitespace on right side\n",
    "print(\".\",extra.lstrip(),'.') #removes whitespace on left side\n",
    "print(\".\",extra.strip(),'.')  #removes whitespace on both sides"
   ]
  },
  {
   "cell_type": "code",
   "execution_count": 27,
   "metadata": {},
   "outputs": [
    {
     "name": "stdout",
     "output_type": "stream",
     "text": [
      ".@hello world@.\n"
     ]
    }
   ],
   "source": [
    "# Changing the print function's seperator\n",
    "print(\".\",extra.strip(),'.', sep=\"@\")"
   ]
  }
 ],
 "metadata": {
  "kernelspec": {
   "display_name": "Python 3",
   "language": "python",
   "name": "python3"
  },
  "language_info": {
   "codemirror_mode": {
    "name": "ipython",
    "version": 3
   },
   "file_extension": ".py",
   "mimetype": "text/x-python",
   "name": "python",
   "nbconvert_exporter": "python",
   "pygments_lexer": "ipython3",
   "version": "3.7.1"
  },
  "toc": {
   "base_numbering": 1,
   "nav_menu": {},
   "number_sections": false,
   "sideBar": false,
   "skip_h1_title": false,
   "title_cell": "Table of Contents",
   "title_sidebar": "Contents",
   "toc_cell": false,
   "toc_position": {},
   "toc_section_display": false,
   "toc_window_display": false
  }
 },
 "nbformat": 4,
 "nbformat_minor": 2
}
